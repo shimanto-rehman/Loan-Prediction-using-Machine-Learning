{
  "nbformat": 4,
  "nbformat_minor": 0,
  "metadata": {
    "colab": {
      "name": "Loan Prediction.ipynb",
      "provenance": []
    },
    "kernelspec": {
      "name": "python3",
      "display_name": "Python 3"
    },
    "language_info": {
      "name": "python"
    }
  },
  "cells": [
    {
      "cell_type": "markdown",
      "metadata": {
        "id": "xUHFR4QAe55D"
      },
      "source": [
        "## **Importing Libraries and Reading Dataset**"
      ]
    },
    {
      "cell_type": "code",
      "metadata": {
        "id": "1gadmCpNnfvI"
      },
      "source": [
        "# Importing Library\n",
        "import pandas as pd\n",
        "import numpy as np\n",
        "from sklearn import preprocessing\n",
        "from sklearn.preprocessing import LabelEncoder\n",
        "\n",
        "# Reading the training dataset in a dataframe using Pandas\n",
        "df = pd.read_csv(\"train.csv\")\n",
        "\n",
        "# Reading the test dataset in a dataframe using Pandas\n",
        "test = pd.read_csv(\"test.csv\")"
      ],
      "execution_count": 320,
      "outputs": []
    },
    {
      "cell_type": "code",
      "metadata": {
        "id": "WbuqCMCqoCNV"
      },
      "source": [
        "# Store total number of observation in training dataset\n",
        "df_length =len(df)\n",
        "\n",
        "# Store total number of columns in testing data set\n",
        "test_col = len(test.columns)"
      ],
      "execution_count": 321,
      "outputs": []
    },
    {
      "cell_type": "markdown",
      "metadata": {
        "id": "x-xyh67KfiYM"
      },
      "source": [
        "## **Understanding the various features (columns) of the dataset:**"
      ]
    },
    {
      "cell_type": "code",
      "metadata": {
        "colab": {
          "base_uri": "https://localhost:8080/"
        },
        "id": "ZRahx6rroJdW",
        "outputId": "d1ca1e7c-7536-4adc-da0d-57a3add61ce8"
      },
      "source": [
        "# Get the unique values and their frequency of variable Property_Area\n",
        "\n",
        "df['Property_Area'].value_counts()"
      ],
      "execution_count": 322,
      "outputs": [
        {
          "output_type": "execute_result",
          "data": {
            "text/plain": [
              "Semiurban    233\n",
              "Urban        202\n",
              "Rural        179\n",
              "Name: Property_Area, dtype: int64"
            ]
          },
          "metadata": {
            "tags": []
          },
          "execution_count": 322
        }
      ]
    },
    {
      "cell_type": "code",
      "metadata": {
        "colab": {
          "base_uri": "https://localhost:8080/",
          "height": 282
        },
        "id": "CcmvvlproQI_",
        "outputId": "275c1336-8cf3-4ad5-aeab-d8358d9440fd"
      },
      "source": [
        "# Box Plot for understanding the distributions and to observe the outliers.\n",
        "\n",
        "%matplotlib inline\n",
        "\n",
        "# Histogram of variable ApplicantIncome\n",
        "\n",
        "df['ApplicantIncome'].hist()"
      ],
      "execution_count": 323,
      "outputs": [
        {
          "output_type": "execute_result",
          "data": {
            "text/plain": [
              "<matplotlib.axes._subplots.AxesSubplot at 0x7f4c69caa7d0>"
            ]
          },
          "metadata": {
            "tags": []
          },
          "execution_count": 323
        },
        {
          "output_type": "display_data",
          "data": {
            "image/png": "[encoded data removed]",
            "text/plain": [
              "<Figure size 432x288 with 1 Axes>"
            ]
          },
          "metadata": {
            "tags": [],
            "needs_background": "light"
          }
        }
      ]
    },
    {
      "cell_type": "code",
      "metadata": {
        "colab": {
          "base_uri": "https://localhost:8080/",
          "height": 282
        },
        "id": "NiBrSYOvoYWe",
        "outputId": "44c9e8ba-1182-4b59-ab57-a8354f21ec4e"
      },
      "source": [
        "# Box Plot for variable ApplicantIncome of training data set\n",
        "\n",
        "df.boxplot(column='ApplicantIncome')"
      ],
      "execution_count": 324,
      "outputs": [
        {
          "output_type": "execute_result",
          "data": {
            "text/plain": [
              "<matplotlib.axes._subplots.AxesSubplot at 0x7f4c69b0be10>"
            ]
          },
          "metadata": {
            "tags": []
          },
          "execution_count": 324
        },
        {
          "output_type": "display_data",
          "data": {
            "image/png": "[encoded data removed]",
            "text/plain": [
              "<Figure size 432x288 with 1 Axes>"
            ]
          },
          "metadata": {
            "tags": [],
            "needs_background": "light"
          }
        }
      ]
    },
    {
      "cell_type": "code",
      "metadata": {
        "colab": {
          "base_uri": "https://localhost:8080/",
          "height": 371
        },
        "id": "1pEnQH9Poa9w",
        "outputId": "ee233bc7-01d6-467b-965c-b80aac15dfc4"
      },
      "source": [
        "# Box Plot for variable ApplicantIncome by variable Education of training data set\n",
        "\n",
        "df.boxplot(column='ApplicantIncome', by = 'Education')"
      ],
      "execution_count": 325,
      "outputs": [
        {
          "output_type": "stream",
          "text": [
            "/usr/local/lib/python3.7/dist-packages/numpy/core/_asarray.py:83: VisibleDeprecationWarning: Creating an ndarray from ragged nested sequences (which is a list-or-tuple of lists-or-tuples-or ndarrays with different lengths or shapes) is deprecated. If you meant to do this, you must specify 'dtype=object' when creating the ndarray\n",
            "  return array(a, dtype, copy=False, order=order)\n"
          ],
          "name": "stderr"
        },
        {
          "output_type": "execute_result",
          "data": {
            "text/plain": [
              "<matplotlib.axes._subplots.AxesSubplot at 0x7f4c69a82250>"
            ]
          },
          "metadata": {
            "tags": []
          },
          "execution_count": 325
        },
        {
          "output_type": "display_data",
          "data": {
            "image/png": "[encoded data removed]",
            "text/plain": [
              "<Figure size 432x288 with 1 Axes>"
            ]
          },
          "metadata": {
            "tags": [],
            "needs_background": "light"
          }
        }
      ]
    },
    {
      "cell_type": "code",
      "metadata": {
        "colab": {
          "base_uri": "https://localhost:8080/",
          "height": 282
        },
        "id": "Rln6k2ReojXN",
        "outputId": "49062584-6bed-4dba-f958-e08e2f9880be"
      },
      "source": [
        "# Histogram of variable LoanAmount\n",
        "\n",
        "df['LoanAmount'].hist(bins=50)"
      ],
      "execution_count": 326,
      "outputs": [
        {
          "output_type": "execute_result",
          "data": {
            "text/plain": [
              "<matplotlib.axes._subplots.AxesSubplot at 0x7f4c69a11ed0>"
            ]
          },
          "metadata": {
            "tags": []
          },
          "execution_count": 326
        },
        {
          "output_type": "display_data",
          "data": {
            "image/png": "[encoded data removed]",
            "text/plain": [
              "<Figure size 432x288 with 1 Axes>"
            ]
          },
          "metadata": {
            "tags": [],
            "needs_background": "light"
          }
        }
      ]
    },
    {
      "cell_type": "code",
      "metadata": {
        "colab": {
          "base_uri": "https://localhost:8080/",
          "height": 282
        },
        "id": "cPHmT1eOotHu",
        "outputId": "fd41153c-442f-48b2-df71-545a59c2b83f"
      },
      "source": [
        "# Box Plot for variable LoanAmount of training data set\n",
        "\n",
        "df.boxplot(column='LoanAmount')"
      ],
      "execution_count": 327,
      "outputs": [
        {
          "output_type": "execute_result",
          "data": {
            "text/plain": [
              "<matplotlib.axes._subplots.AxesSubplot at 0x7f4c699d7990>"
            ]
          },
          "metadata": {
            "tags": []
          },
          "execution_count": 327
        },
        {
          "output_type": "display_data",
          "data": {
            "image/png": "[encoded data removed]",
            "text/plain": [
              "<Figure size 432x288 with 1 Axes>"
            ]
          },
          "metadata": {
            "tags": [],
            "needs_background": "light"
          }
        }
      ]
    },
    {
      "cell_type": "code",
      "metadata": {
        "colab": {
          "base_uri": "https://localhost:8080/",
          "height": 371
        },
        "id": "vxRtKdIPowJ4",
        "outputId": "0c993939-b3f6-4b7a-8918-bc2aa0a27872"
      },
      "source": [
        "# Box Plot for variable LoanAmount by variable Gender of training data set\n",
        "\n",
        "df.boxplot(column='LoanAmount', by = 'Gender')"
      ],
      "execution_count": 328,
      "outputs": [
        {
          "output_type": "stream",
          "text": [
            "/usr/local/lib/python3.7/dist-packages/numpy/core/_asarray.py:83: VisibleDeprecationWarning: Creating an ndarray from ragged nested sequences (which is a list-or-tuple of lists-or-tuples-or ndarrays with different lengths or shapes) is deprecated. If you meant to do this, you must specify 'dtype=object' when creating the ndarray\n",
            "  return array(a, dtype, copy=False, order=order)\n"
          ],
          "name": "stderr"
        },
        {
          "output_type": "execute_result",
          "data": {
            "text/plain": [
              "<matplotlib.axes._subplots.AxesSubplot at 0x7f4c69877090>"
            ]
          },
          "metadata": {
            "tags": []
          },
          "execution_count": 328
        },
        {
          "output_type": "display_data",
          "data": {
            "image/png": "[encoded data removed]",
            "text/plain": [
              "<Figure size 432x288 with 1 Axes>"
            ]
          },
          "metadata": {
            "tags": [],
            "needs_background": "light"
          }
        }
      ]
    },
    {
      "cell_type": "markdown",
      "metadata": {
        "id": "Omkm599Kfz0c"
      },
      "source": [
        "## **Understanding Distribution of Categorical Variables:**"
      ]
    },
    {
      "cell_type": "code",
      "metadata": {
        "colab": {
          "base_uri": "https://localhost:8080/"
        },
        "id": "7cgSqJ6BoyN3",
        "outputId": "4e9a650e-7622-4f83-d7fd-291616150b66"
      },
      "source": [
        "# Loan approval rates in absolute numbers\n",
        "loan_approval = df['Loan_Status'].value_counts()['Y']\n",
        "print(loan_approval)"
      ],
      "execution_count": 329,
      "outputs": [
        {
          "output_type": "stream",
          "text": [
            "422\n"
          ],
          "name": "stdout"
        }
      ]
    },
    {
      "cell_type": "code",
      "metadata": {
        "colab": {
          "base_uri": "https://localhost:8080/",
          "height": 172
        },
        "id": "RH14-Rpso499",
        "outputId": "93628c48-69ce-4ef2-d011-aeca578ef7db"
      },
      "source": [
        "# Credit History and Loan Status\n",
        "pd.crosstab(df ['Credit_History'], df ['Loan_Status'], margins=True)"
      ],
      "execution_count": 330,
      "outputs": [
        {
          "output_type": "execute_result",
          "data": {
            "text/html": [
              "<div>\n",
              "<style scoped>\n",
              "    .dataframe tbody tr th:only-of-type {\n",
              "        vertical-align: middle;\n",
              "    }\n",
              "\n",
              "    .dataframe tbody tr th {\n",
              "        vertical-align: top;\n",
              "    }\n",
              "\n",
              "    .dataframe thead th {\n",
              "        text-align: right;\n",
              "    }\n",
              "</style>\n",
              "<table border=\"1\" class=\"dataframe\">\n",
              "  <thead>\n",
              "    <tr style=\"text-align: right;\">\n",
              "      <th>Loan_Status</th>\n",
              "      <th>N</th>\n",
              "      <th>Y</th>\n",
              "      <th>All</th>\n",
              "    </tr>\n",
              "    <tr>\n",
              "      <th>Credit_History</th>\n",
              "      <th></th>\n",
              "      <th></th>\n",
              "      <th></th>\n",
              "    </tr>\n",
              "  </thead>\n",
              "  <tbody>\n",
              "    <tr>\n",
              "      <th>0.0</th>\n",
              "      <td>82</td>\n",
              "      <td>7</td>\n",
              "      <td>89</td>\n",
              "    </tr>\n",
              "    <tr>\n",
              "      <th>1.0</th>\n",
              "      <td>97</td>\n",
              "      <td>378</td>\n",
              "      <td>475</td>\n",
              "    </tr>\n",
              "    <tr>\n",
              "      <th>All</th>\n",
              "      <td>179</td>\n",
              "      <td>385</td>\n",
              "      <td>564</td>\n",
              "    </tr>\n",
              "  </tbody>\n",
              "</table>\n",
              "</div>"
            ],
            "text/plain": [
              "Loan_Status       N    Y  All\n",
              "Credit_History               \n",
              "0.0              82    7   89\n",
              "1.0              97  378  475\n",
              "All             179  385  564"
            ]
          },
          "metadata": {
            "tags": []
          },
          "execution_count": 330
        }
      ]
    },
    {
      "cell_type": "code",
      "metadata": {
        "colab": {
          "base_uri": "https://localhost:8080/"
        },
        "id": "uI-tvQXbo8ul",
        "outputId": "474a6706-b178-4d38-fde9-14fd26733a04"
      },
      "source": [
        "#Function to output percentage row wise in a cross table\n",
        "def percentageConvert(ser):\n",
        "    return ser/float(ser[-1])\n",
        "\n",
        "# Loan approval rate for customers having Credit_History (1)\n",
        "df=pd.crosstab(df [\"Credit_History\"], df [\"Loan_Status\"], margins=True).apply(percentageConvert, axis=1)\n",
        "loan_approval_with_Credit_1 = df['Y'][1]\n",
        "print(loan_approval_with_Credit_1*100)"
      ],
      "execution_count": 331,
      "outputs": [
        {
          "output_type": "stream",
          "text": [
            "79.57894736842105\n"
          ],
          "name": "stdout"
        }
      ]
    },
    {
      "cell_type": "code",
      "metadata": {
        "colab": {
          "base_uri": "https://localhost:8080/"
        },
        "id": "ALG3cp0PpCx3",
        "outputId": "386da1f9-4636-45fa-8411-f99c4e642ca3"
      },
      "source": [
        "df['Y']"
      ],
      "execution_count": 332,
      "outputs": [
        {
          "output_type": "execute_result",
          "data": {
            "text/plain": [
              "Credit_History\n",
              "0.0    0.078652\n",
              "1.0    0.795789\n",
              "All    0.682624\n",
              "Name: Y, dtype: float64"
            ]
          },
          "metadata": {
            "tags": []
          },
          "execution_count": 332
        }
      ]
    },
    {
      "cell_type": "code",
      "metadata": {
        "id": "oWeAde9TpEuf"
      },
      "source": [
        "# Replace missing value of Self_Employed with more frequent category\n",
        "\n",
        "# Reading the training dataset in a dataframe using Pandas\n",
        "df = pd.read_csv(\"train.csv\")\n",
        "\n",
        "# Reading the test dataset in a dataframe using Pandas\n",
        "test = pd.read_csv(\"test.csv\")\n",
        "df['Self_Employed'].fillna('No',inplace=True)"
      ],
      "execution_count": 333,
      "outputs": []
    },
    {
      "cell_type": "markdown",
      "metadata": {
        "id": "wNwYOoyjgNSv"
      },
      "source": [
        "## **Outliers of LoanAmount and Applicant Income:**"
      ]
    },
    {
      "cell_type": "code",
      "metadata": {
        "colab": {
          "base_uri": "https://localhost:8080/",
          "height": 282
        },
        "id": "ciaz3DO9pX1o",
        "outputId": "9e808463-e5ef-4946-d8dc-36ba45c9b6e0"
      },
      "source": [
        "# Add both ApplicantIncome and CoapplicantIncome to TotalIncome\n",
        "df['TotalIncome'] = df['ApplicantIncome'] + df['CoapplicantIncome']\n",
        "\n",
        "# Looking at the distribtion of TotalIncome\n",
        "df['LoanAmount'].hist(bins=20)"
      ],
      "execution_count": 334,
      "outputs": [
        {
          "output_type": "execute_result",
          "data": {
            "text/plain": [
              "<matplotlib.axes._subplots.AxesSubplot at 0x7f4c69832cd0>"
            ]
          },
          "metadata": {
            "tags": []
          },
          "execution_count": 334
        },
        {
          "output_type": "display_data",
          "data": {
            "image/png": "[encoded data removed]",
            "text/plain": [
              "<Figure size 432x288 with 1 Axes>"
            ]
          },
          "metadata": {
            "tags": [],
            "needs_background": "light"
          }
        }
      ]
    },
    {
      "cell_type": "code",
      "metadata": {
        "colab": {
          "base_uri": "https://localhost:8080/",
          "height": 282
        },
        "id": "JxwHlNqtpaNS",
        "outputId": "20ee9be2-1069-4d15-d087-a62d7bc9ee68"
      },
      "source": [
        "# Perform log transformation of TotalIncome to make it closer to normal\n",
        "df['LoanAmount_log'] = np.log(df['LoanAmount'])\n",
        "\n",
        "# Looking at the distribtion of TotalIncome_log\n",
        "df['LoanAmount_log'].hist(bins=20)"
      ],
      "execution_count": 335,
      "outputs": [
        {
          "output_type": "execute_result",
          "data": {
            "text/plain": [
              "<matplotlib.axes._subplots.AxesSubplot at 0x7f4c697a5950>"
            ]
          },
          "metadata": {
            "tags": []
          },
          "execution_count": 335
        },
        {
          "output_type": "display_data",
          "data": {
            "image/png": "[encoded data removed]",
            "text/plain": [
              "<Figure size 432x288 with 1 Axes>"
            ]
          },
          "metadata": {
            "tags": [],
            "needs_background": "light"
          }
        }
      ]
    },
    {
      "cell_type": "markdown",
      "metadata": {
        "id": "k86STpKNgsUc"
      },
      "source": [
        "## **Data Preparation for Model Building:**"
      ]
    },
    {
      "cell_type": "code",
      "metadata": {
        "colab": {
          "base_uri": "https://localhost:8080/"
        },
        "id": "qp6om07cpe1b",
        "outputId": "9d536c4f-8d3e-4633-b068-4884fbe6586c"
      },
      "source": [
        "# Impute missing values for Gender\n",
        "df['Gender'].fillna(df['Gender'].mode()[0],inplace=True)\n",
        "\n",
        "# Impute missing values for Married\n",
        "df['Married'].fillna(df['Married'].mode()[0],inplace=True)\n",
        "\n",
        "# Impute missing values for Education\n",
        "df['Education'].fillna(df['Education'].mode()[0],inplace=True)\n",
        "\n",
        "# Impute missing values for Dependents\n",
        "df['Dependents'].fillna(df['Dependents'].mode()[0],inplace=True)\n",
        "\n",
        "# Impute missing values for Credit_History\n",
        "df['Credit_History'].fillna(df['Credit_History'].mode()[0],inplace=True)\n",
        "\n",
        "# Convert all non-numeric values to number\n",
        "cat=['Gender','Married','Dependents','Education','Self_Employed','Credit_History','Property_Area']\n",
        "\n",
        "for var in cat:\n",
        "    le = preprocessing.LabelEncoder()\n",
        "    df[var]=le.fit_transform(df[var].astype('str'))\n",
        "df.dtypes"
      ],
      "execution_count": 336,
      "outputs": [
        {
          "output_type": "execute_result",
          "data": {
            "text/plain": [
              "Loan_ID               object\n",
              "Gender                 int64\n",
              "Married                int64\n",
              "Dependents             int64\n",
              "Education              int64\n",
              "Self_Employed          int64\n",
              "ApplicantIncome        int64\n",
              "CoapplicantIncome    float64\n",
              "LoanAmount           float64\n",
              "Loan_Amount_Term     float64\n",
              "Credit_History         int64\n",
              "Property_Area          int64\n",
              "Loan_Status           object\n",
              "TotalIncome          float64\n",
              "LoanAmount_log       float64\n",
              "dtype: object"
            ]
          },
          "metadata": {
            "tags": []
          },
          "execution_count": 336
        }
      ]
    },
    {
      "cell_type": "markdown",
      "metadata": {
        "id": "TSK_qxbBg4hw"
      },
      "source": [
        "## **Generic Classification Function:**"
      ]
    },
    {
      "cell_type": "code",
      "metadata": {
        "id": "4bAF65JDpq1X"
      },
      "source": [
        "#Import models from scikit learn module:\n",
        "from sklearn import metrics\n",
        "from sklearn.model_selection import KFold\n",
        "\n",
        "#Generic function for making a classification model and accessing performance:\n",
        "\n",
        "def classification_model(model, data, predictors, outcome):\n",
        "    #Fit the model:\n",
        "    model.fit(data[predictors],data[outcome])\n",
        "  \n",
        "    #Make predictions on training set:\n",
        "    predictions = model.predict(data[predictors])\n",
        "  \n",
        "    #Print accuracy\n",
        "    accuracy = metrics.accuracy_score(predictions,data[outcome])\n",
        "    print (\"Accuracy : %s\" % \"{0:.3%}\".format(accuracy))\n",
        "\n",
        "    #Perform k-fold cross-validation with 5 folds\n",
        "    kf = KFold(n_splits=5)\n",
        "    error = []\n",
        "    for train, test in kf.split():\n",
        "        # Filter training data\n",
        "        train_predictors = (data[predictors].iloc[train,:])\n",
        "    \n",
        "        # The target we're using to train the algorithm.\n",
        "        train_target = data[outcome].iloc[train]\n",
        "    \n",
        "        # Training the algorithm using the predictors and target.\n",
        "        model.fit(train_predictors, train_target)\n",
        "    \n",
        "        #Record error from each cross-validation run\n",
        "        error.append(model.score(data[predictors].iloc[test,:], data[outcome].iloc[test]))\n",
        " \n",
        "    print (\"Cross-Validation Score : %s\" % \"{0:.3%}\".format(np.mean(error)))\n",
        "\n",
        "    #Fit the model again so that it can be refered outside the function:\n",
        "    model.fit(data[predictors],data[outcome])"
      ],
      "execution_count": 362,
      "outputs": []
    },
    {
      "cell_type": "markdown",
      "metadata": {
        "id": "W82P9mM6hHey"
      },
      "source": [
        "## **Model Building:**"
      ]
    },
    {
      "cell_type": "code",
      "metadata": {
        "colab": {
          "base_uri": "https://localhost:8080/"
        },
        "id": "o1-se9Taqe43",
        "outputId": "a719b346-4101-45bf-955a-141798b38bb1"
      },
      "source": [
        "#Combining both train and test dataset\n",
        "\n",
        "#Create a flag for Train and Test Data set\n",
        "df['Type']='Train' \n",
        "test['Type']='Test'\n",
        "fullData = pd.concat([df,test],axis=0, sort=True)\n",
        "\n",
        "#Look at the available missing values in the dataset\n",
        "fullData.isnull().sum()"
      ],
      "execution_count": 363,
      "outputs": [
        {
          "output_type": "execute_result",
          "data": {
            "text/plain": [
              "ApplicantIncome        0\n",
              "CoapplicantIncome      0\n",
              "Credit_History        29\n",
              "Dependents            10\n",
              "Education              0\n",
              "Gender                11\n",
              "LoanAmount            27\n",
              "LoanAmount_log       389\n",
              "Loan_Amount_Term      20\n",
              "Loan_ID                0\n",
              "Loan_Status          367\n",
              "Married                0\n",
              "Property_Area          0\n",
              "Self_Employed         23\n",
              "TotalIncome          367\n",
              "Type                   0\n",
              "dtype: int64"
            ]
          },
          "metadata": {
            "tags": []
          },
          "execution_count": 363
        }
      ]
    },
    {
      "cell_type": "code",
      "metadata": {
        "id": "gYE8Yy8tq5qR"
      },
      "source": [
        "#Identify categorical and continuous variables\n",
        "ID_col = ['Loan_ID']\n",
        "target_col = [\"Loan_Status\"]\n",
        "cat_cols = ['Credit_History','Dependents','Gender','Married','Education','Property_Area','Self_Employed']"
      ],
      "execution_count": 364,
      "outputs": []
    },
    {
      "cell_type": "code",
      "metadata": {
        "id": "DtalAJuFrCyY"
      },
      "source": [
        "#Imputing Missing values with mean for continuous variable\n",
        "fullData['LoanAmount'].fillna(fullData['LoanAmount'].mean(), inplace=True)\n",
        "fullData['LoanAmount_log'].fillna(fullData['LoanAmount_log'].mean(), inplace=True)\n",
        "fullData['Loan_Amount_Term'].fillna(fullData['Loan_Amount_Term'].mean(), inplace=True)\n",
        "fullData['ApplicantIncome'].fillna(fullData['ApplicantIncome'].mean(), inplace=True)\n",
        "fullData['CoapplicantIncome'].fillna(fullData['CoapplicantIncome'].mean(), inplace=True)\n",
        "\n",
        "#Imputing Missing values with mode for categorical variables\n",
        "fullData['Gender'].fillna(fullData['Gender'].mode()[0], inplace=True)\n",
        "fullData['Married'].fillna(fullData['Married'].mode()[0], inplace=True)\n",
        "fullData['Education'].fillna(fullData['Education'].mode()[0], inplace=True)\n",
        "fullData['Dependents'].fillna(fullData['Dependents'].mode()[0], inplace=True)\n",
        "fullData['Loan_Amount_Term'].fillna(fullData['Loan_Amount_Term'].mode()[0], inplace=True)\n",
        "fullData['Credit_History'].fillna(fullData['Credit_History'].mode()[0], inplace=True)"
      ],
      "execution_count": 365,
      "outputs": []
    },
    {
      "cell_type": "code",
      "metadata": {
        "colab": {
          "base_uri": "https://localhost:8080/",
          "height": 285
        },
        "id": "Vc8fRhJitO8E",
        "outputId": "033b94f8-f5aa-49e2-8167-d9fb99b47fa6"
      },
      "source": [
        "#Create a new column as Total Income\n",
        "\n",
        "fullData['TotalIncome']=fullData['ApplicantIncome'] + fullData['CoapplicantIncome']\n",
        "\n",
        "fullData['TotalIncome_log'] = np.log(fullData['TotalIncome'])\n",
        "\n",
        "#Histogram for Total Income\n",
        "fullData['TotalIncome_log'].hist(bins=20)"
      ],
      "execution_count": 366,
      "outputs": [
        {
          "output_type": "execute_result",
          "data": {
            "text/plain": [
              "<matplotlib.axes._subplots.AxesSubplot at 0x7f4c69508750>"
            ]
          },
          "metadata": {
            "tags": []
          },
          "execution_count": 366
        },
        {
          "output_type": "display_data",
          "data": {
            "image/png": "[encoded data removed]",
            "text/plain": [
              "<Figure size 432x288 with 1 Axes>"
            ]
          },
          "metadata": {
            "tags": [],
            "needs_background": "light"
          }
        }
      ]
    },
    {
      "cell_type": "code",
      "metadata": {
        "colab": {
          "base_uri": "https://localhost:8080/"
        },
        "id": "v-730-VUtavS",
        "outputId": "9ca0422f-52a2-4164-bee8-6b62f5799bdd"
      },
      "source": [
        "#create label encoders for categorical features\n",
        "for var in cat_cols:\n",
        "    number = LabelEncoder()\n",
        "    fullData[var] = number.fit_transform(fullData[var].astype('str'))\n",
        "\n",
        "train_modified=fullData[fullData['Type']=='Train']\n",
        "test_modified=fullData[fullData['Type']=='Test']\n",
        "train_modified[\"Loan_Status\"] = number.fit_transform(train_modified[\"Loan_Status\"].astype('str'))"
      ],
      "execution_count": 367,
      "outputs": [
        {
          "output_type": "stream",
          "text": [
            "/usr/local/lib/python3.7/dist-packages/ipykernel_launcher.py:8: SettingWithCopyWarning: \n",
            "A value is trying to be set on a copy of a slice from a DataFrame.\n",
            "Try using .loc[row_indexer,col_indexer] = value instead\n",
            "\n",
            "See the caveats in the documentation: https://pandas.pydata.org/pandas-docs/stable/user_guide/indexing.html#returning-a-view-versus-a-copy\n",
            "  \n"
          ],
          "name": "stderr"
        }
      ]
    },
    {
      "cell_type": "markdown",
      "metadata": {
        "id": "xgu231IvhdGP"
      },
      "source": [
        "## **Logistic Regression Model:**"
      ]
    },
    {
      "cell_type": "code",
      "metadata": {
        "id": "oDOk6WChtjPk"
      },
      "source": [
        "from sklearn.linear_model import LogisticRegression\n",
        "\n",
        "predictors_Logistic=['Credit_History','Education','Gender']\n",
        "\n",
        "x_train = train_modified[list(predictors_Logistic)].values\n",
        "y_train = train_modified[\"Loan_Status\"].values\n",
        "\n",
        "x_test=test_modified[list(predictors_Logistic)].values"
      ],
      "execution_count": 368,
      "outputs": []
    },
    {
      "cell_type": "code",
      "metadata": {
        "colab": {
          "base_uri": "https://localhost:8080/",
          "height": 488
        },
        "id": "rLWgnPPjtr7Q",
        "outputId": "b7091762-35a4-4b5a-de9d-655b1d1d9d00"
      },
      "source": [
        "# Create logistic regression object\n",
        "model = LogisticRegression()\n",
        "\n",
        "# Train the model using the training sets\n",
        "model.fit(x_train, y_train)\n",
        "\n",
        "#Predict Output\n",
        "predicted= model.predict(x_test)\n",
        "\n",
        "#Reverse encoding for predicted outcome\n",
        "predicted = number.inverse_transform(predicted)\n",
        "\n",
        "#Store it to test dataset\n",
        "test_modified['Loan_Status']=predicted\n",
        "\n",
        "outcome_var = 'Loan_Status'\n",
        "classification_model(model, df,predictors_Logistic,outcome_var)\n",
        "\n",
        "test_modified.to_csv(\"Logistic_Prediction.csv\",columns=['Loan_ID','Loan_Status'])"
      ],
      "execution_count": 369,
      "outputs": [
        {
          "output_type": "stream",
          "text": [
            "Accuracy : 80.945%\n"
          ],
          "name": "stdout"
        },
        {
          "output_type": "stream",
          "text": [
            "/usr/local/lib/python3.7/dist-packages/ipykernel_launcher.py:14: SettingWithCopyWarning: \n",
            "A value is trying to be set on a copy of a slice from a DataFrame.\n",
            "Try using .loc[row_indexer,col_indexer] = value instead\n",
            "\n",
            "See the caveats in the documentation: https://pandas.pydata.org/pandas-docs/stable/user_guide/indexing.html#returning-a-view-versus-a-copy\n",
            "  \n"
          ],
          "name": "stderr"
        },
        {
          "output_type": "error",
          "ename": "ValueError",
          "evalue": "ignored",
          "traceback": [
            "\u001b[0;31m---------------------------------------------------------------------------\u001b[0m",
            "\u001b[0;31mValueError\u001b[0m                                Traceback (most recent call last)",
            "\u001b[0;32m<ipython-input-369-e21ee6eca753>\u001b[0m in \u001b[0;36m<module>\u001b[0;34m()\u001b[0m\n\u001b[1;32m     15\u001b[0m \u001b[0;34m\u001b[0m\u001b[0m\n\u001b[1;32m     16\u001b[0m \u001b[0moutcome_var\u001b[0m \u001b[0;34m=\u001b[0m \u001b[0;34m'Loan_Status'\u001b[0m\u001b[0;34m\u001b[0m\u001b[0;34m\u001b[0m\u001b[0m\n\u001b[0;32m---> 17\u001b[0;31m \u001b[0mclassification_model\u001b[0m\u001b[0;34m(\u001b[0m\u001b[0mmodel\u001b[0m\u001b[0;34m,\u001b[0m \u001b[0mdf\u001b[0m\u001b[0;34m,\u001b[0m\u001b[0mpredictors_Logistic\u001b[0m\u001b[0;34m,\u001b[0m\u001b[0moutcome_var\u001b[0m\u001b[0;34m)\u001b[0m\u001b[0;34m\u001b[0m\u001b[0;34m\u001b[0m\u001b[0m\n\u001b[0m\u001b[1;32m     18\u001b[0m \u001b[0;34m\u001b[0m\u001b[0m\n\u001b[1;32m     19\u001b[0m \u001b[0mtest_modified\u001b[0m\u001b[0;34m.\u001b[0m\u001b[0mto_csv\u001b[0m\u001b[0;34m(\u001b[0m\u001b[0;34m\"Logistic_Prediction.csv\"\u001b[0m\u001b[0;34m,\u001b[0m\u001b[0mcolumns\u001b[0m\u001b[0;34m=\u001b[0m\u001b[0;34m[\u001b[0m\u001b[0;34m'Loan_ID'\u001b[0m\u001b[0;34m,\u001b[0m\u001b[0;34m'Loan_Status'\u001b[0m\u001b[0;34m]\u001b[0m\u001b[0;34m)\u001b[0m\u001b[0;34m\u001b[0m\u001b[0;34m\u001b[0m\u001b[0m\n",
            "\u001b[0;32m<ipython-input-362-9c7999926e70>\u001b[0m in \u001b[0;36mclassification_model\u001b[0;34m(model, data, predictors, outcome)\u001b[0m\n\u001b[1;32m     19\u001b[0m     \u001b[0mkf\u001b[0m \u001b[0;34m=\u001b[0m \u001b[0mKFold\u001b[0m\u001b[0;34m(\u001b[0m\u001b[0mn_splits\u001b[0m\u001b[0;34m=\u001b[0m\u001b[0;36m5\u001b[0m\u001b[0;34m)\u001b[0m\u001b[0;34m\u001b[0m\u001b[0;34m\u001b[0m\u001b[0m\n\u001b[1;32m     20\u001b[0m     \u001b[0merror\u001b[0m \u001b[0;34m=\u001b[0m \u001b[0;34m[\u001b[0m\u001b[0;34m]\u001b[0m\u001b[0;34m\u001b[0m\u001b[0;34m\u001b[0m\u001b[0m\n\u001b[0;32m---> 21\u001b[0;31m     \u001b[0;32mfor\u001b[0m \u001b[0mtrain\u001b[0m\u001b[0;34m,\u001b[0m \u001b[0mtest\u001b[0m \u001b[0;32min\u001b[0m \u001b[0mkf\u001b[0m\u001b[0;34m.\u001b[0m\u001b[0msplit\u001b[0m\u001b[0;34m(\u001b[0m\u001b[0mpredictors_Logistic\u001b[0m\u001b[0;34m)\u001b[0m\u001b[0;34m:\u001b[0m\u001b[0;34m\u001b[0m\u001b[0;34m\u001b[0m\u001b[0m\n\u001b[0m\u001b[1;32m     22\u001b[0m         \u001b[0;31m# Filter training data\u001b[0m\u001b[0;34m\u001b[0m\u001b[0;34m\u001b[0m\u001b[0;34m\u001b[0m\u001b[0m\n\u001b[1;32m     23\u001b[0m         \u001b[0mtrain_predictors\u001b[0m \u001b[0;34m=\u001b[0m \u001b[0;34m(\u001b[0m\u001b[0mdata\u001b[0m\u001b[0;34m[\u001b[0m\u001b[0mpredictors\u001b[0m\u001b[0;34m]\u001b[0m\u001b[0;34m.\u001b[0m\u001b[0miloc\u001b[0m\u001b[0;34m[\u001b[0m\u001b[0mtrain\u001b[0m\u001b[0;34m,\u001b[0m\u001b[0;34m:\u001b[0m\u001b[0;34m]\u001b[0m\u001b[0;34m)\u001b[0m\u001b[0;34m\u001b[0m\u001b[0;34m\u001b[0m\u001b[0m\n",
            "\u001b[0;32m/usr/local/lib/python3.7/dist-packages/sklearn/model_selection/_split.py\u001b[0m in \u001b[0;36msplit\u001b[0;34m(self, X, y, groups)\u001b[0m\n\u001b[1;32m    331\u001b[0m                 (\"Cannot have number of splits n_splits={0} greater\"\n\u001b[1;32m    332\u001b[0m                  \" than the number of samples: n_samples={1}.\")\n\u001b[0;32m--> 333\u001b[0;31m                 .format(self.n_splits, n_samples))\n\u001b[0m\u001b[1;32m    334\u001b[0m \u001b[0;34m\u001b[0m\u001b[0m\n\u001b[1;32m    335\u001b[0m         \u001b[0;32mfor\u001b[0m \u001b[0mtrain\u001b[0m\u001b[0;34m,\u001b[0m \u001b[0mtest\u001b[0m \u001b[0;32min\u001b[0m \u001b[0msuper\u001b[0m\u001b[0;34m(\u001b[0m\u001b[0;34m)\u001b[0m\u001b[0;34m.\u001b[0m\u001b[0msplit\u001b[0m\u001b[0;34m(\u001b[0m\u001b[0mX\u001b[0m\u001b[0;34m,\u001b[0m \u001b[0my\u001b[0m\u001b[0;34m,\u001b[0m \u001b[0mgroups\u001b[0m\u001b[0;34m)\u001b[0m\u001b[0;34m:\u001b[0m\u001b[0;34m\u001b[0m\u001b[0;34m\u001b[0m\u001b[0m\n",
            "\u001b[0;31mValueError\u001b[0m: Cannot have number of splits n_splits=5 greater than the number of samples: n_samples=3."
          ]
        }
      ]
    }
  ]
}